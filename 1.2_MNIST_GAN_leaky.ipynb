{
 "cells": [
  {
   "cell_type": "code",
   "execution_count": 1,
   "metadata": {
    "colab": {},
    "colab_type": "code",
    "id": "atD2mEmp49Tx"
   },
   "outputs": [],
   "source": [
    "# Coding\n",
    "import tensorflow as tf # MAKE SURE TO HAVE TENSORFLOW 2.0 ALPHA0 INSTALLED (pip install tensorflow-gpu==2.0.0-alpha0)\n",
    "from tensorflow.keras import layers\n",
    "import numpy as np\n",
    "\n",
    "# Plotting and manipulating images\n",
    "import matplotlib.pyplot as plt\n",
    "import imageio\n",
    "import glob\n",
    "import PIL\n",
    "from IPython import display\n",
    "\n",
    "# Timing\n",
    "import datetime\n",
    "import time\n",
    "\n",
    "# Saving models and images\n",
    "import os\n",
    "import shutil"
   ]
  },
  {
   "cell_type": "code",
   "execution_count": 2,
   "metadata": {
    "colab": {},
    "colab_type": "code",
    "id": "BUe4Nbv9A3jQ"
   },
   "outputs": [],
   "source": [
    "# Removing the olg images generated during training\n",
    "rm_path = \".\" + os.sep + \"1.2_MNIST_GAN_leaky\" + os.sep + \"imgs\"\n",
    "if os.path.exists(rm_path):\n",
    "    shutil.rmtree(rm_path)\n",
    "\n",
    "# Creating folders to save images, models and checkpoints\n",
    "newpaths = [\".\" + os.sep + \"1.2_MNIST_GAN_leaky\" + os.sep + \"imgs\", \n",
    "            \".\" + os.sep + \"1.2_MNIST_GAN_leaky\" + os.sep + \"models\",\n",
    "            \".\" + os.sep + \"1.2_MNIST_GAN_leaky\" + os.sep + \"training_checkpoints_cifar\" + os.sep + \"ckpt\"]\n",
    "for newpath in newpaths:\n",
    "    if not os.path.exists(newpath):\n",
    "        os.makedirs(newpath)"
   ]
  },
  {
   "cell_type": "code",
   "execution_count": 3,
   "metadata": {
    "colab": {},
    "colab_type": "code",
    "id": "X3DjTSq7n-LL"
   },
   "outputs": [],
   "source": [
    "# Loading and normalizing the dataset : MNIST\n",
    "(train_images, _), (_, _) = tf.keras.datasets.mnist.load_data()\n",
    "train_images = train_images.reshape(train_images.shape[0], train_images.shape[1], train_images.shape[2], 1).astype('float32')\n",
    "train_images = (train_images - 127.5) / 127.5"
   ]
  },
  {
   "cell_type": "code",
   "execution_count": 4,
   "metadata": {
    "colab": {},
    "colab_type": "code",
    "id": "Is1_aWCjn-Lo"
   },
   "outputs": [],
   "source": [
    "# Alterable variables\n",
    "\n",
    "BATCH_SIZE =    64\n",
    "EPOCHS =        200\n",
    "MOMENTUM =      0.9      # Momentum for the Batch Normalization layers\n",
    "\n",
    "ALPHA = 0.2              # Alpha for the LeakyReLU slope\n",
    "\n",
    "KERNEL_SIZE =   (5, 5)   # Larger kernel size for the Convolution layers\n",
    "DROPOUT =       0.4      # Dropout rate\n",
    "NOISE_DIM =     100      # Amount of features for the generator\n",
    "LEARNING_RATE = 1e-4     # Learning Rate for the Adam Optimizer\n",
    "NUM_EXAMPLES =  20       # Amount of examples to generate"
   ]
  },
  {
   "cell_type": "code",
   "execution_count": 5,
   "metadata": {
    "colab": {},
    "colab_type": "code",
    "id": "Uq64kH2Nn-L3"
   },
   "outputs": [],
   "source": [
    "# Constructing the generator\n",
    "\n",
    "def generator_model(input_layer, verbose=False):\n",
    "\n",
    "    hid = layers.Dense(256 * 7 * 7)(input_layer)\n",
    "    hid = layers.LeakyReLU(alpha=ALPHA)(hid)\n",
    "    hid = layers.Reshape((7, 7, 256))(hid)\n",
    "    hid = layers.BatchNormalization(momentum=MOMENTUM)(hid)\n",
    "    \n",
    "    hid = layers.UpSampling2D()(hid)\n",
    "    hid = layers.Conv2D(256, kernel_size=KERNEL_SIZE, padding=\"same\", use_bias=False)(hid)\n",
    "    hid = layers.LeakyReLU(alpha=ALPHA)(hid)\n",
    "    hid = layers.BatchNormalization(momentum=MOMENTUM)(hid)\n",
    "    \n",
    "    hid = layers.UpSampling2D()(hid)\n",
    "    hid = layers.Conv2D(128, kernel_size=KERNEL_SIZE, padding=\"same\", use_bias=False)(hid)\n",
    "    hid = layers.LeakyReLU(alpha=ALPHA)(hid)\n",
    "    hid = layers.BatchNormalization(momentum=MOMENTUM)(hid)\n",
    "    \n",
    "    hid = layers.Conv2D(1, kernel_size=KERNEL_SIZE, padding=\"same\")(hid)\n",
    "    out = layers.Activation(\"tanh\")(hid)\n",
    "\n",
    "    model = tf.keras.Model(inputs=[input_layer], outputs=out)\n",
    "    if verbose:\n",
    "        model.summary()\n",
    "    \n",
    "    return model"
   ]
  },
  {
   "cell_type": "code",
   "execution_count": 6,
   "metadata": {
    "colab": {},
    "colab_type": "code",
    "id": "KONAtfNgn-L8"
   },
   "outputs": [],
   "source": [
    "# Constructing the discriminator\n",
    "\n",
    "def discriminator_model(input_layer, verbose=False):\n",
    "    \n",
    "    hid = layers.Conv2D(128, kernel_size=KERNEL_SIZE, strides=(2, 2), padding='same')(input_layer)\n",
    "    hid = layers.LeakyReLU(alpha=ALPHA)(hid)\n",
    "    hid = layers.Dropout(DROPOUT)(hid)\n",
    "    \n",
    "    hid = layers.Conv2D(256, kernel_size=KERNEL_SIZE, strides=(2, 2), padding='same')(hid)\n",
    "    hid = layers.LeakyReLU(alpha=ALPHA)(hid)\n",
    "    hid = layers.Dropout(DROPOUT)(hid)\n",
    "\n",
    "    hid = layers.Flatten()(hid)\n",
    "\n",
    "    out = layers.Dense(1)(hid) # No sigmoid activation because we use Cross Entropy with from_logits=True\n",
    "    \n",
    "    model = tf.keras.Model(inputs=[input_layer], outputs=out)\n",
    "    if verbose:\n",
    "        model.summary()\n",
    "    \n",
    "    return model"
   ]
  },
  {
   "cell_type": "code",
   "execution_count": 7,
   "metadata": {
    "colab": {
     "base_uri": "https://localhost:8080/",
     "height": 696
    },
    "colab_type": "code",
    "executionInfo": {
     "elapsed": 5548,
     "status": "ok",
     "timestamp": 1558604884121,
     "user": {
      "displayName": "Raphaël LAPERTOT",
      "photoUrl": "",
      "userId": "05100353218062604583"
     },
     "user_tz": -120
    },
    "id": "OMzVRfZon-MD",
    "outputId": "1000b7da-083d-4709-bc05-9b9fb3b02f8f"
   },
   "outputs": [
    {
     "name": "stdout",
     "output_type": "stream",
     "text": [
      "Model: \"model\"\n",
      "_________________________________________________________________\n",
      "Layer (type)                 Output Shape              Param #   \n",
      "=================================================================\n",
      "input_1 (InputLayer)         [(None, 28, 28, 1)]       0         \n",
      "_________________________________________________________________\n",
      "conv2d (Conv2D)              (None, 14, 14, 128)       3328      \n",
      "_________________________________________________________________\n",
      "leaky_re_lu (LeakyReLU)      (None, 14, 14, 128)       0         \n",
      "_________________________________________________________________\n",
      "dropout (Dropout)            (None, 14, 14, 128)       0         \n",
      "_________________________________________________________________\n",
      "conv2d_1 (Conv2D)            (None, 7, 7, 256)         819456    \n",
      "_________________________________________________________________\n",
      "leaky_re_lu_1 (LeakyReLU)    (None, 7, 7, 256)         0         \n",
      "_________________________________________________________________\n",
      "dropout_1 (Dropout)          (None, 7, 7, 256)         0         \n",
      "_________________________________________________________________\n",
      "flatten (Flatten)            (None, 12544)             0         \n",
      "_________________________________________________________________\n",
      "dense (Dense)                (None, 1)                 12545     \n",
      "=================================================================\n",
      "Total params: 835,329\n",
      "Trainable params: 835,329\n",
      "Non-trainable params: 0\n",
      "_________________________________________________________________\n"
     ]
    }
   ],
   "source": [
    "# Loading the discriminator\n",
    "\n",
    "img_input = layers.Input(shape=(train_images.shape[1:])) # Input of (32,32,3) as an input for the discriminator\n",
    "discriminator = discriminator_model(img_input, verbose=True)"
   ]
  },
  {
   "cell_type": "code",
   "execution_count": 8,
   "metadata": {
    "colab": {
     "base_uri": "https://localhost:8080/",
     "height": 803
    },
    "colab_type": "code",
    "executionInfo": {
     "elapsed": 6090,
     "status": "ok",
     "timestamp": 1558604884677,
     "user": {
      "displayName": "Raphaël LAPERTOT",
      "photoUrl": "",
      "userId": "05100353218062604583"
     },
     "user_tz": -120
    },
    "id": "UOcEqeQwn-MI",
    "outputId": "cafb2d81-7fe1-4d04-f8ad-01369c79eaee"
   },
   "outputs": [
    {
     "name": "stdout",
     "output_type": "stream",
     "text": [
      "Model: \"model_1\"\n",
      "_________________________________________________________________\n",
      "Layer (type)                 Output Shape              Param #   \n",
      "=================================================================\n",
      "input_2 (InputLayer)         [(None, 100)]             0         \n",
      "_________________________________________________________________\n",
      "dense_1 (Dense)              (None, 12544)             1266944   \n",
      "_________________________________________________________________\n",
      "leaky_re_lu_2 (LeakyReLU)    (None, 12544)             0         \n",
      "_________________________________________________________________\n",
      "reshape (Reshape)            (None, 7, 7, 256)         0         \n",
      "_________________________________________________________________\n",
      "batch_normalization_v2 (Batc (None, 7, 7, 256)         1024      \n",
      "_________________________________________________________________\n",
      "up_sampling2d (UpSampling2D) (None, 14, 14, 256)       0         \n",
      "_________________________________________________________________\n",
      "conv2d_2 (Conv2D)            (None, 14, 14, 256)       1638400   \n",
      "_________________________________________________________________\n",
      "leaky_re_lu_3 (LeakyReLU)    (None, 14, 14, 256)       0         \n",
      "_________________________________________________________________\n",
      "batch_normalization_v2_1 (Ba (None, 14, 14, 256)       1024      \n",
      "_________________________________________________________________\n",
      "up_sampling2d_1 (UpSampling2 (None, 28, 28, 256)       0         \n",
      "_________________________________________________________________\n",
      "conv2d_3 (Conv2D)            (None, 28, 28, 128)       819200    \n",
      "_________________________________________________________________\n",
      "leaky_re_lu_4 (LeakyReLU)    (None, 28, 28, 128)       0         \n",
      "_________________________________________________________________\n",
      "batch_normalization_v2_2 (Ba (None, 28, 28, 128)       512       \n",
      "_________________________________________________________________\n",
      "conv2d_4 (Conv2D)            (None, 28, 28, 1)         3201      \n",
      "_________________________________________________________________\n",
      "activation (Activation)      (None, 28, 28, 1)         0         \n",
      "=================================================================\n",
      "Total params: 3,730,305\n",
      "Trainable params: 3,729,025\n",
      "Non-trainable params: 1,280\n",
      "_________________________________________________________________\n"
     ]
    }
   ],
   "source": [
    "# Loading the generator\n",
    "\n",
    "noise_input = layers.Input(shape=(NOISE_DIM,)) # Input of 100 random numbers for the generator \n",
    "generator = generator_model(noise_input, verbose=True)"
   ]
  },
  {
   "cell_type": "code",
   "execution_count": 9,
   "metadata": {
    "colab": {},
    "colab_type": "code",
    "id": "A0hkPIG9n-Mj"
   },
   "outputs": [],
   "source": [
    "loss_function = tf.keras.losses.BinaryCrossentropy(from_logits=True)"
   ]
  },
  {
   "cell_type": "code",
   "execution_count": 10,
   "metadata": {
    "colab": {},
    "colab_type": "code",
    "id": "JlPEgCbfn-Mp"
   },
   "outputs": [],
   "source": [
    "def discriminator_loss(real_output, fake_output):\n",
    "    real_loss = loss_function(tf.ones_like(real_output), real_output)\n",
    "    # real_loss will quantify our loss to distinguish the real images\n",
    "    \n",
    "    fake_loss = loss_function(tf.zeros_like(fake_output), fake_output)\n",
    "    # fake_loss will quantify our loss to distinguish the fake images (generated)\n",
    "    \n",
    "    # Real image = 1, Fake image = 0 (array of ones and zeros)\n",
    "    total_loss = real_loss + fake_loss\n",
    "    return total_loss"
   ]
  },
  {
   "cell_type": "code",
   "execution_count": 11,
   "metadata": {
    "colab": {},
    "colab_type": "code",
    "id": "jKqh9Y0On-Mv"
   },
   "outputs": [],
   "source": [
    "def generator_loss(fake_output):\n",
    "    # We want the false images to be seen as real images (1)\n",
    "    return loss_function(tf.ones_like(fake_output), fake_output)"
   ]
  },
  {
   "cell_type": "code",
   "execution_count": 12,
   "metadata": {
    "colab": {},
    "colab_type": "code",
    "id": "6ZzP3uTon-M0"
   },
   "outputs": [],
   "source": [
    "generator_optimizer = tf.keras.optimizers.Adam(lr=LEARNING_RATE)\n",
    "discriminator_optimizer = tf.keras.optimizers.Adam(lr=LEARNING_RATE)"
   ]
  },
  {
   "cell_type": "code",
   "execution_count": 13,
   "metadata": {
    "colab": {},
    "colab_type": "code",
    "id": "lvjzM-qLn-M4"
   },
   "outputs": [],
   "source": [
    "checkpoint_dir = \".\" + os.sep + \"1.2_MNIST_GAN_leaky\" + os.sep + \"training_checkpoints_cifar\"\n",
    "checkpoint_prefix = os.path.join(checkpoint_dir, \"ckpt\")\n",
    "checkpoint = tf.train.Checkpoint(generator_optimizer=generator_optimizer,\n",
    "                                 discriminator_optimizer=discriminator_optimizer,\n",
    "                                 generator=generator,\n",
    "                                 discriminator=discriminator)"
   ]
  },
  {
   "cell_type": "code",
   "execution_count": 14,
   "metadata": {
    "colab": {},
    "colab_type": "code",
    "id": "q-c33oSqn-M6"
   },
   "outputs": [],
   "source": [
    "# We will reuse this seed overtime (so it's easier)\n",
    "# to visualize progress in the animated GIF)\n",
    "seed = tf.random.normal([NUM_EXAMPLES, NOISE_DIM])"
   ]
  },
  {
   "cell_type": "code",
   "execution_count": 15,
   "metadata": {
    "colab": {},
    "colab_type": "code",
    "id": "1pV6xVOGn-ND"
   },
   "outputs": [],
   "source": [
    "import matplotlib.gridspec as gridspec\n",
    "import matplotlib.patches as mpatches\n",
    "\n",
    "def generate_and_save_images(model,\n",
    "                             epoch,\n",
    "                             test_input,\n",
    "                             g_loss,\n",
    "                             d_loss,\n",
    "                             conditions=None,\n",
    "                             x_axis=\"scale\",\n",
    "                             y_max=5):\n",
    "\n",
    "  # Notice `training` is set to False.\n",
    "  # This is so all layers run in inference mode (batchnorm).\n",
    "    if conditions:\n",
    "        predictions = model([test_input, conditions], training=False)\n",
    "    else:\n",
    "        predictions = model([test_input], training=False)\n",
    "\n",
    "    fig = plt.figure(figsize=(20,8))\n",
    "    outer = gridspec.GridSpec(1, 2, wspace=0.2, hspace=0.2)\n",
    "\n",
    "    inner_im = gridspec.GridSpecFromSubplotSpec(4, 5,\n",
    "                  subplot_spec=outer[0], wspace=0.1, hspace=0.1)\n",
    "\n",
    "    for i in range(predictions.shape[0]):\n",
    "        ax = plt.Subplot(fig, inner_im[i])\n",
    "        ax.imshow((predictions[i, :, :, 0]+1) / 2, cmap=\"gray\")\n",
    "        if conditions:\n",
    "            ax.title.set_text(classes[np.argmax(conditions[i])])\n",
    "        ax.axis('off')\n",
    "        fig.add_subplot(ax)\n",
    "    fig.savefig(\".\" + os.sep + \"1.2_MNIST_GAN_leaky\" + os.sep + 'imgs' + os.sep + 'image_at_epoch_{:04d}.png'.format(epoch), bbox_inches=\"tight\")\n",
    "    \n",
    "    \n",
    "    inner_l = gridspec.GridSpecFromSubplotSpec(1, 1,\n",
    "                  subplot_spec=outer[1], wspace=0.1, hspace=0.1)\n",
    "    \n",
    "    ax1 = plt.Subplot(fig, inner_l[0])\n",
    "    \n",
    "    samples = 1000\n",
    "    g_losses_sampled = []\n",
    "    d_losses_sampled = []\n",
    "    xs = []\n",
    "\n",
    "    for i in range(len(g_loss) // samples):\n",
    "        g_losses_sampled.append(np.mean(g_loss[i*samples:(i+1)*samples]))\n",
    "        d_losses_sampled.append(np.mean(d_loss[i*samples:(i+1)*samples]))\n",
    "        xs.append(i*samples + samples/2)\n",
    "\n",
    "    ax1.plot(xs, g_losses_sampled, \"r-\")\n",
    "    ax1.plot(xs, d_losses_sampled, \"b-\")\n",
    "\n",
    "    red_patch = mpatches.Patch(color='red', label='Generator loss')\n",
    "    blue_patch = mpatches.Patch(color='blue', label='Discriminator loss')\n",
    "    ax1.legend(handles=[red_patch,blue_patch])\n",
    "    \n",
    "    if x_axis == \"total\":\n",
    "        ax1.set_xlim([0, train_images.shape[0]//BATCH_SIZE * EPOCHS])\n",
    "    else:\n",
    "        ax1.set_xlim([0, xs[-1] + xs[-1]*0.1])\n",
    "    ax1.set_ylim([0, y_max])\n",
    "    \n",
    "    \n",
    "    \n",
    "    fig.add_subplot(ax1)\n",
    "    \n",
    "    plt.show()\n"
   ]
  },
  {
   "cell_type": "code",
   "execution_count": 16,
   "metadata": {
    "colab": {},
    "colab_type": "code",
    "id": "zKjHYInfn-M8"
   },
   "outputs": [],
   "source": [
    "# Notice the use of `tf.function`\n",
    "# This annotation causes the function to be converted \n",
    "# from Eager mode of Tensorflow (easier to code but slower to execute) \n",
    "# to Graph mode (harder to code but faster to execute)\n",
    "\n",
    "@tf.function\n",
    "def train_step(images):\n",
    "    noise = tf.random.normal([BATCH_SIZE, NOISE_DIM])\n",
    "\n",
    "    # To make sure we know what is done, we will use a gradient tape instead of compiling\n",
    "    with tf.GradientTape() as gen_tape, tf.GradientTape() as disc_tape:\n",
    "        # Training the generator\n",
    "        generated_images = generator([noise] , training=True) \n",
    "\n",
    "        # Training the discriminator\n",
    "        real_output = discriminator([images], training=True)           # Training the discriminator on real images\n",
    "        fake_output = discriminator([generated_images], training=True) # Training the discriminator on fake images\n",
    "\n",
    "        # Calculating the losses\n",
    "        gen_loss = generator_loss(fake_output)\n",
    "        disc_loss = discriminator_loss(real_output, fake_output)\n",
    "\n",
    "        # Building the gradients\n",
    "        gradients_of_generator = gen_tape.gradient(gen_loss, generator.trainable_variables)\n",
    "        gradients_of_discriminator = disc_tape.gradient(disc_loss, discriminator.trainable_variables)\n",
    "        \n",
    "        # Applying the gradients (backpropagation)\n",
    "        generator_optimizer.apply_gradients(zip(gradients_of_generator, generator.trainable_variables))\n",
    "        discriminator_optimizer.apply_gradients(zip(gradients_of_discriminator, discriminator.trainable_variables))\n",
    "\n",
    "        return gen_loss, disc_loss\n"
   ]
  },
  {
   "cell_type": "code",
   "execution_count": 17,
   "metadata": {
    "colab": {},
    "colab_type": "code",
    "id": "xiv8__B9n-NA"
   },
   "outputs": [],
   "source": [
    "g_losses = []\n",
    "d_losses = []\n",
    "def train(train_images, epochs):\n",
    "\n",
    "    num_batches = int(train_images.shape[0]/BATCH_SIZE) # Amount of batches\n",
    "    for epoch in range(epochs):\n",
    "        start = time.time() # Timing the epoch\n",
    "\n",
    "        for batch_idx in range(num_batches):\n",
    "            images = train_images[batch_idx*BATCH_SIZE : (batch_idx+1)*BATCH_SIZE]\n",
    "            gen_loss, disc_loss = train_step(images)\n",
    "            \n",
    "            # Saving the losses\n",
    "            g_losses.append(gen_loss.numpy())  \n",
    "            d_losses.append(disc_loss.numpy())\n",
    "\n",
    "        # Produce images for the GIF as we go\n",
    "        display.clear_output(wait=True)\n",
    "        generate_and_save_images(generator,\n",
    "                                 epoch + 1,\n",
    "                                 seed,\n",
    "                                 g_losses,\n",
    "                                 d_losses,\n",
    "                                 x_axis='total')\n",
    "\n",
    "        # Save the model every 15 epochs\n",
    "        if (epoch + 1) % 15 == 0:\n",
    "            checkpoint.save(file_prefix = checkpoint_prefix)\n",
    "\n",
    "        print ('Time for epoch {} is {} sec'.format(epoch + 1, time.time()-start))\n",
    "        print(\"Generator loss for last batch: \",g_losses[-1])\n",
    "        print(\"Discriminator loss for last batch: \",d_losses[-1])\n",
    "\n",
    "    # Generate after the final epoch\n",
    "    display.clear_output(wait=True)\n",
    "    generate_and_save_images(generator,\n",
    "                               epochs,\n",
    "                               seed,\n",
    "                               g_losses,\n",
    "                               d_losses,\n",
    "                               x_axis='total')"
   ]
  },
  {
   "cell_type": "code",
   "execution_count": 18,
   "metadata": {
    "colab": {
     "base_uri": "https://localhost:8080/",
     "height": 935
    },
    "colab_type": "code",
    "executionInfo": {
     "elapsed": 29109,
     "status": "error",
     "timestamp": 1558605037499,
     "user": {
      "displayName": "Raphaël LAPERTOT",
      "photoUrl": "",
      "userId": "05100353218062604583"
     },
     "user_tz": -120
    },
    "id": "zkVM7PIWn-NG",
    "outputId": "6f951f94-8b94-4647-8110-a4caf1e87cbf"
   },
   "outputs": [
    {
     "data": {
      "image/png": "[encoded data removed]",
      "text/plain": [
       "<Figure size 1440x576 with 21 Axes>"
      ]
     },
     "metadata": {
      "needs_background": "light"
     },
     "output_type": "display_data"
    },
    {
     "name": "stdout",
     "output_type": "stream",
     "text": [
      "CPU times: user 43min 37s, sys: 8min 4s, total: 51min 42s\n",
      "Wall time: 2h 37min\n"
     ]
    }
   ],
   "source": [
    "%%time\n",
    "# Training\n",
    "train(train_images, EPOCHS)\n",
    "\n",
    "# Immedialty save the models\n",
    "generator.save(\".\" + os.sep + \"1.2_MNIST_GAN_leaky\" + os.sep + 'models' + os.sep + 'generator.h5')\n",
    "discriminator.save(\".\" + os.sep + \"1.2_MNIST_GAN_leaky\" + os.sep + 'models' + os.sep + 'discriminator.h5')"
   ]
  },
  {
   "cell_type": "code",
   "execution_count": 19,
   "metadata": {
    "colab": {},
    "colab_type": "code",
    "id": "2cYXd-uL2uGy"
   },
   "outputs": [
    {
     "name": "stderr",
     "output_type": "stream",
     "text": [
      "WARNING: Logging before flag parsing goes to stderr.\n",
      "W0530 14:23:42.749737 140565221353280 hdf5_format.py:224] No training configuration found in save file: the model was *not* compiled. Compile it manually.\n"
     ]
    }
   ],
   "source": [
    "generator_l = tf.keras.models.load_model(\".\" + os.sep + \"1.2_MNIST_GAN_leaky\" + os.sep + \"models\" + os.sep + \"generator.h5\")"
   ]
  },
  {
   "cell_type": "code",
   "execution_count": 20,
   "metadata": {
    "colab": {},
    "colab_type": "code",
    "id": "GbdW-zUt2eKm"
   },
   "outputs": [
    {
     "name": "stdout",
     "output_type": "stream",
     "text": [
      "Generating images...\n"
     ]
    },
    {
     "data": {
      "image/png": "[encoded data removed]",
      "text/plain": [
       "<Figure size 720x720 with 20 Axes>"
      ]
     },
     "metadata": {
      "needs_background": "light"
     },
     "output_type": "display_data"
    }
   ],
   "source": [
    "# Show some examples\n",
    "\n",
    "def show_class(model, k=None, classes=None):\n",
    "    if classes:\n",
    "        print(\"Generating {} images...\".format(classes[k]))\n",
    "        input = tf.random.normal([NUM_EXAMPLES, NOISE_DIM])\n",
    "        labels = tf.one_hot([k]*NUM_EXAMPLES,10)\n",
    "        predictions = model([input, labels], training=False)\n",
    "    else:\n",
    "        print(\"Generating images...\")\n",
    "        input = tf.random.normal([NUM_EXAMPLES, NOISE_DIM])\n",
    "        labels=None\n",
    "        predictions = model([input], training=False)\n",
    "        \n",
    "\n",
    "    fig = plt.figure(figsize=(10,10))\n",
    "\n",
    "    for i in range(predictions.shape[0]):\n",
    "        plt.subplot(4, 5, i+1)\n",
    "        if classes:\n",
    "            plt.title(classes[k])\n",
    "        plt.imshow((predictions[i, :, :, 0]+1) / 2, cmap=\"gray\")\n",
    "        plt.axis('off')\n",
    "    plt.show()\n",
    "    \n",
    "show_class(generator_l)"
   ]
  },
  {
   "cell_type": "code",
   "execution_count": 21,
   "metadata": {
    "colab": {},
    "colab_type": "code",
    "id": "VAPnRJbX4LYK"
   },
   "outputs": [
    {
     "data": {
      "image/png": "[encoded data removed]",
      "text/plain": [
       "<Figure size 1440x720 with 1 Axes>"
      ]
     },
     "metadata": {
      "needs_background": "light"
     },
     "output_type": "display_data"
    }
   ],
   "source": [
    "# Visualizing the losses\n",
    "\n",
    "samples = 256\n",
    "g_losses_sampled = []\n",
    "d_losses_sampled = []\n",
    "xs = []\n",
    "\n",
    "\n",
    "for i in range(len(g_losses) // samples):\n",
    "    g_losses_sampled.append(np.mean(g_losses[i*samples:(i+1)*samples]))\n",
    "    d_losses_sampled.append(np.mean(d_losses[i*samples:(i+1)*samples]))\n",
    "    xs.append(i*samples + samples/2)\n",
    "\n",
    "plt.figure(figsize=(20,10))\n",
    "  \n",
    "plt.plot(xs, g_losses_sampled, \"r-\")\n",
    "plt.plot(xs, d_losses_sampled, \"b-\")\n",
    "\n",
    "red_patch = mpatches.Patch(color='red', label='Generator loss')\n",
    "blue_patch = mpatches.Patch(color='blue', label='Discriminator loss')\n",
    "plt.legend(handles=[red_patch,blue_patch])\n",
    "plt.show()\n"
   ]
  },
  {
   "cell_type": "code",
   "execution_count": 22,
   "metadata": {
    "colab": {},
    "colab_type": "code",
    "id": "E8hcYFYa3P2m"
   },
   "outputs": [],
   "source": [
    "# Creating a GIF image to visualize the training\n",
    "\n",
    "anim_file = \".\" + os.sep + \"1.2_MNIST_GAN_leaky\" + os.sep + 'MNIST.gif'\n",
    "\n",
    "with imageio.get_writer(anim_file, mode='I') as writer:\n",
    "    filenames = glob.glob(\".\" + os.sep + \"1.2_MNIST_GAN_leaky\" + os.sep + 'imgs' + os.sep + 'image*.png')\n",
    "    filenames = sorted(filenames)\n",
    "    last = -1\n",
    "    for i,filename in enumerate(filenames):\n",
    "        frame = 10*(i**0.5)\n",
    "        if round(frame) > round(last):\n",
    "            last = frame\n",
    "        else:\n",
    "            continue\n",
    "        image = imageio.imread(filename)\n",
    "        writer.append_data(image)\n",
    "    image = imageio.imread(filename)\n",
    "    writer.append_data(image)"
   ]
  }
 ],
 "metadata": {
  "accelerator": "GPU",
  "colab": {
   "collapsed_sections": [],
   "name": "1.1_GAN_kernel_size.ipynb",
   "provenance": [],
   "version": "0.3.2"
  },
  "kernelspec": {
   "display_name": "tf_garridoq",
   "language": "python",
   "name": "tf_garridoq"
  },
  "language_info": {
   "codemirror_mode": {
    "name": "ipython",
    "version": 3
   },
   "file_extension": ".py",
   "mimetype": "text/x-python",
   "name": "python",
   "nbconvert_exporter": "python",
   "pygments_lexer": "ipython3",
   "version": "3.7.1"
  }
 },
 "nbformat": 4,
 "nbformat_minor": 2
}
