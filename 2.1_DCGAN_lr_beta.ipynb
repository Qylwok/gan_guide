{
 "cells": [
  {
   "cell_type": "code",
   "execution_count": 23,
   "metadata": {
    "colab": {},
    "colab_type": "code",
    "id": "atD2mEmp49Tx"
   },
   "outputs": [],
   "source": [
    "# Coding\n",
    "import tensorflow as tf # MAKE SURE TO HAVE TENSORFLOW 2.0 ALPHA0 INSTALLED (pip install tensorflow-gpu==2.0.0-alpha0)\n",
    "from tensorflow.keras import layers\n",
    "import numpy as np\n",
    "\n",
    "# Plotting and manipulating images\n",
    "import matplotlib.pyplot as plt\n",
    "import imageio\n",
    "import glob\n",
    "import PIL\n",
    "from IPython import display\n",
    "\n",
    "# Timing\n",
    "import datetime\n",
    "import time\n",
    "\n",
    "# Saving models and images\n",
    "import os\n",
    "import shutil"
   ]
  },
  {
   "cell_type": "code",
   "execution_count": 24,
   "metadata": {
    "colab": {},
    "colab_type": "code",
    "id": "BUe4Nbv9A3jQ"
   },
   "outputs": [],
   "source": [
    "# Removing the olg images generated during training\n",
    "rm_path = \".\" + os.sep + \"2.1_DCGAN_lr_beta\" + os.sep + \"imgs\"\n",
    "if os.path.exists(rm_path):\n",
    "    shutil.rmtree(rm_path)\n",
    "\n",
    "# Creating folders to save images, models and checkpoints\n",
    "newpaths = [\".\" + os.sep + \"2.1_DCGAN_lr_beta\" + os.sep + \"imgs\", \n",
    "            \".\" + os.sep + \"2.1_DCGAN_lr_beta\" + os.sep + \"models\",\n",
    "            \".\" + os.sep + \"2.1_DCGAN_lr_beta\" + os.sep + \"training_checkpoints_cifar\" + os.sep + \"ckpt\"]\n",
    "for newpath in newpaths:\n",
    "    if not os.path.exists(newpath):\n",
    "        os.makedirs(newpath)"
   ]
  },
  {
   "cell_type": "code",
   "execution_count": 25,
   "metadata": {
    "colab": {},
    "colab_type": "code",
    "id": "X3DjTSq7n-LL"
   },
   "outputs": [],
   "source": [
    "# Loading and normalizing the dataset : CIFAR-10\n",
    "(train_images, _), (_, _) = tf.keras.datasets.cifar10.load_data()\n",
    "train_images = train_images.reshape(train_images.shape[0], 32, 32, 3).astype('float32')\n",
    "train_images = (train_images - 127.5) / 127.5"
   ]
  },
  {
   "cell_type": "code",
   "execution_count": 26,
   "metadata": {
    "colab": {},
    "colab_type": "code",
    "id": "Is1_aWCjn-Lo"
   },
   "outputs": [],
   "source": [
    "# Alterable variables\n",
    "\n",
    "BATCH_SIZE =    64\n",
    "EPOCHS =        200\n",
    "MOMENTUM =      0.9      # Momentum for the Batch Normalization layers\n",
    "ALPHA =         0.2      # Alpha for the LeakyReLU slope\n",
    "KERNEL_SIZE =   (5, 5)   # Larger kernel size for the Convolution layers\n",
    "DROPOUT =       0.4      # Dropout rate\n",
    "NOISE_DIM =     100      # Amount of features for the generator\n",
    "\n",
    "LEARNING_RATE = 2e-4     # Better learning rate for the Adam Optimizer\n",
    "BETA =          0.5      # Beta for the Adam Optimizer\n",
    "\n",
    "NUM_EXAMPLES =  20       # Amount of examples to generate"
   ]
  },
  {
   "cell_type": "code",
   "execution_count": 27,
   "metadata": {
    "colab": {},
    "colab_type": "code",
    "id": "Uq64kH2Nn-L3"
   },
   "outputs": [],
   "source": [
    "# Constructing the generator\n",
    "\n",
    "def generator_model(input_layer, verbose=False):\n",
    "\n",
    "    hid = layers.Dense(128 * 4 * 4)(input_layer)\n",
    "    hid = layers.Activation(\"relu\")(hid) # Use of ReLU in generator\n",
    "    hid = layers.Reshape((4, 4, 128))(hid)\n",
    "    hid = layers.BatchNormalization(momentum=MOMENTUM)(hid)\n",
    "    \n",
    "#     hid = layers.UpSampling2D()(hid) # DCGAN don't allow this anymore\n",
    "    hid = layers.Conv2DTranspose(128, kernel_size=KERNEL_SIZE, padding=\"same\", use_bias=False,\n",
    "                       strides=(2, 2))(hid) # Use of strided convolutions instead\n",
    "    hid = layers.Activation(\"relu\")(hid) # Use of ReLU in generator\n",
    "    hid = layers.BatchNormalization(momentum=MOMENTUM)(hid)\n",
    "    \n",
    "#     hid = layers.UpSampling2D()(hid) # DCGAN don't allow this anymore\n",
    "    hid = layers.Conv2DTranspose(128, kernel_size=KERNEL_SIZE, padding=\"same\", use_bias=False,\n",
    "                       strides=(2, 2))(hid) # Use of strided convolutions instead\n",
    "    hid = layers.Activation(\"relu\")(hid) # Use of ReLU in generator\n",
    "    hid = layers.BatchNormalization(momentum=MOMENTUM)(hid)\n",
    "    \n",
    "#     hid = layers.UpSampling2D()(hid) # DCGAN don't allow this anymore\n",
    "    hid = layers.Conv2DTranspose(128, kernel_size=KERNEL_SIZE, padding=\"same\", use_bias=False,\n",
    "                       strides=(2, 2))(hid) # Use of strided convolutions instead\n",
    "    hid = layers.Activation(\"relu\")(hid) # Use of ReLU in generator\n",
    "    hid = layers.BatchNormalization(momentum=MOMENTUM)(hid)\n",
    "    \n",
    "    hid = layers.Conv2DTranspose(3, kernel_size=KERNEL_SIZE, padding=\"same\")(hid)\n",
    "    out = layers.Activation(\"tanh\")(hid)\n",
    "\n",
    "    model = tf.keras.Model(inputs=[input_layer], outputs=out)\n",
    "    if verbose:\n",
    "        model.summary()\n",
    "    \n",
    "    return model"
   ]
  },
  {
   "cell_type": "code",
   "execution_count": 28,
   "metadata": {
    "colab": {},
    "colab_type": "code",
    "id": "KONAtfNgn-L8"
   },
   "outputs": [],
   "source": [
    "# Constructing the discriminator\n",
    "\n",
    "def discriminator_model(input_layer, verbose=False):\n",
    "\n",
    "    # Removed the bias because BatchNormalization already adds a bias\n",
    "    hid = layers.Conv2D(32, kernel_size=KERNEL_SIZE, strides=(2, 2), padding='same', use_bias=False)(input_layer) \n",
    "    hid = layers.LeakyReLU(alpha=ALPHA)(hid) # LeakyReLU in discriminator\n",
    "#     hid = layers.Dropout(DROPOUT)(hid) # BatchNorm instead of Dropouts\n",
    "    hid = layers.BatchNormalization(momentum=MOMENTUM)(hid)\n",
    "    \n",
    "    # Removed the bias because BatchNormalization already adds a bias\n",
    "    hid = layers.Conv2D(64, kernel_size=KERNEL_SIZE, strides=(2, 2), padding='same', use_bias=False)(hid)\n",
    "    hid = layers.LeakyReLU(alpha=ALPHA)(hid) # LeakyReLU in discriminator\n",
    "#     hid = layers.Dropout(DROPOUT)(hid) # BatchNorm instead of Dropouts\n",
    "    hid = layers.BatchNormalization(momentum=MOMENTUM)(hid)\n",
    "    \n",
    "    # Removed the bias because BatchNormalization already adds a bias\n",
    "    hid = layers.Conv2D(128, kernel_size=KERNEL_SIZE, strides=(2, 2), padding='same', use_bias=False)(hid)\n",
    "    hid = layers.LeakyReLU(alpha=ALPHA)(hid) # LeakyReLU in discriminator\n",
    "#     hid = layers.Dropout(DROPOUT)(hid) # BatchNorm instead of Dropouts\n",
    "    hid = layers.BatchNormalization(momentum=MOMENTUM)(hid)\n",
    "\n",
    "    hid = layers.Flatten()(hid)\n",
    "\n",
    "    out = layers.Dense(1)(hid) # No sigmoid activation because we use Cross Entropy with from_logits=True\n",
    "    \n",
    "    model = tf.keras.Model(inputs=[input_layer], outputs=out)\n",
    "    if verbose:\n",
    "        model.summary()\n",
    "    \n",
    "    return model"
   ]
  },
  {
   "cell_type": "code",
   "execution_count": 29,
   "metadata": {
    "colab": {
     "base_uri": "https://localhost:8080/",
     "height": 696
    },
    "colab_type": "code",
    "executionInfo": {
     "elapsed": 5548,
     "status": "ok",
     "timestamp": 1558604884121,
     "user": {
      "displayName": "Raphaël LAPERTOT",
      "photoUrl": "",
      "userId": "05100353218062604583"
     },
     "user_tz": -120
    },
    "id": "OMzVRfZon-MD",
    "outputId": "1000b7da-083d-4709-bc05-9b9fb3b02f8f"
   },
   "outputs": [
    {
     "name": "stdout",
     "output_type": "stream",
     "text": [
      "Model: \"model_2\"\n",
      "_________________________________________________________________\n",
      "Layer (type)                 Output Shape              Param #   \n",
      "=================================================================\n",
      "input_3 (InputLayer)         [(None, 32, 32, 3)]       0         \n",
      "_________________________________________________________________\n",
      "conv2d_3 (Conv2D)            (None, 16, 16, 32)        2400      \n",
      "_________________________________________________________________\n",
      "leaky_re_lu_3 (LeakyReLU)    (None, 16, 16, 32)        0         \n",
      "_________________________________________________________________\n",
      "batch_normalization_v2_7 (Ba (None, 16, 16, 32)        128       \n",
      "_________________________________________________________________\n",
      "conv2d_4 (Conv2D)            (None, 8, 8, 64)          51200     \n",
      "_________________________________________________________________\n",
      "leaky_re_lu_4 (LeakyReLU)    (None, 8, 8, 64)          0         \n",
      "_________________________________________________________________\n",
      "batch_normalization_v2_8 (Ba (None, 8, 8, 64)          256       \n",
      "_________________________________________________________________\n",
      "conv2d_5 (Conv2D)            (None, 4, 4, 128)         204800    \n",
      "_________________________________________________________________\n",
      "leaky_re_lu_5 (LeakyReLU)    (None, 4, 4, 128)         0         \n",
      "_________________________________________________________________\n",
      "batch_normalization_v2_9 (Ba (None, 4, 4, 128)         512       \n",
      "_________________________________________________________________\n",
      "flatten_1 (Flatten)          (None, 2048)              0         \n",
      "_________________________________________________________________\n",
      "dense_2 (Dense)              (None, 1)                 2049      \n",
      "=================================================================\n",
      "Total params: 261,345\n",
      "Trainable params: 260,897\n",
      "Non-trainable params: 448\n",
      "_________________________________________________________________\n"
     ]
    }
   ],
   "source": [
    "# Loading the discriminator\n",
    "\n",
    "img_input = layers.Input(shape=(train_images.shape[1:])) # Input of (32,32,3) as an input for the discriminator\n",
    "discriminator = discriminator_model(img_input, verbose=True)"
   ]
  },
  {
   "cell_type": "code",
   "execution_count": 30,
   "metadata": {
    "colab": {
     "base_uri": "https://localhost:8080/",
     "height": 803
    },
    "colab_type": "code",
    "executionInfo": {
     "elapsed": 6090,
     "status": "ok",
     "timestamp": 1558604884677,
     "user": {
      "displayName": "Raphaël LAPERTOT",
      "photoUrl": "",
      "userId": "05100353218062604583"
     },
     "user_tz": -120
    },
    "id": "UOcEqeQwn-MI",
    "outputId": "cafb2d81-7fe1-4d04-f8ad-01369c79eaee"
   },
   "outputs": [
    {
     "name": "stdout",
     "output_type": "stream",
     "text": [
      "Model: \"model_3\"\n",
      "_________________________________________________________________\n",
      "Layer (type)                 Output Shape              Param #   \n",
      "=================================================================\n",
      "input_4 (InputLayer)         [(None, 100)]             0         \n",
      "_________________________________________________________________\n",
      "dense_3 (Dense)              (None, 2048)              206848    \n",
      "_________________________________________________________________\n",
      "activation_5 (Activation)    (None, 2048)              0         \n",
      "_________________________________________________________________\n",
      "reshape_1 (Reshape)          (None, 4, 4, 128)         0         \n",
      "_________________________________________________________________\n",
      "batch_normalization_v2_10 (B (None, 4, 4, 128)         512       \n",
      "_________________________________________________________________\n",
      "conv2d_transpose_4 (Conv2DTr (None, 8, 8, 128)         409600    \n",
      "_________________________________________________________________\n",
      "activation_6 (Activation)    (None, 8, 8, 128)         0         \n",
      "_________________________________________________________________\n",
      "batch_normalization_v2_11 (B (None, 8, 8, 128)         512       \n",
      "_________________________________________________________________\n",
      "conv2d_transpose_5 (Conv2DTr (None, 16, 16, 128)       409600    \n",
      "_________________________________________________________________\n",
      "activation_7 (Activation)    (None, 16, 16, 128)       0         \n",
      "_________________________________________________________________\n",
      "batch_normalization_v2_12 (B (None, 16, 16, 128)       512       \n",
      "_________________________________________________________________\n",
      "conv2d_transpose_6 (Conv2DTr (None, 32, 32, 128)       409600    \n",
      "_________________________________________________________________\n",
      "activation_8 (Activation)    (None, 32, 32, 128)       0         \n",
      "_________________________________________________________________\n",
      "batch_normalization_v2_13 (B (None, 32, 32, 128)       512       \n",
      "_________________________________________________________________\n",
      "conv2d_transpose_7 (Conv2DTr (None, 32, 32, 3)         9603      \n",
      "_________________________________________________________________\n",
      "activation_9 (Activation)    (None, 32, 32, 3)         0         \n",
      "=================================================================\n",
      "Total params: 1,447,299\n",
      "Trainable params: 1,446,275\n",
      "Non-trainable params: 1,024\n",
      "_________________________________________________________________\n"
     ]
    }
   ],
   "source": [
    "# Loading the generator\n",
    "\n",
    "noise_input = layers.Input(shape=(NOISE_DIM,)) # Input of 100 random numbers for the generator \n",
    "generator = generator_model(noise_input, verbose=True)"
   ]
  },
  {
   "cell_type": "code",
   "execution_count": null,
   "metadata": {
    "colab": {},
    "colab_type": "code",
    "id": "A0hkPIG9n-Mj"
   },
   "outputs": [],
   "source": [
    "loss_function = tf.keras.losses.BinaryCrossentropy(from_logits=True)"
   ]
  },
  {
   "cell_type": "code",
   "execution_count": null,
   "metadata": {
    "colab": {},
    "colab_type": "code",
    "id": "JlPEgCbfn-Mp"
   },
   "outputs": [],
   "source": [
    "def discriminator_loss(real_output, fake_output):\n",
    "    real_loss = loss_function(tf.ones_like(real_output), real_output)\n",
    "    # real_loss will quantify our loss to distinguish the real images\n",
    "    \n",
    "    fake_loss = loss_function(tf.zeros_like(fake_output), fake_output)\n",
    "    # fake_loss will quantify our loss to distinguish the fake images (generated)\n",
    "    \n",
    "    # Real image = 1, Fake image = 0 (array of ones and zeros)\n",
    "    total_loss = real_loss + fake_loss\n",
    "    return total_loss"
   ]
  },
  {
   "cell_type": "code",
   "execution_count": null,
   "metadata": {
    "colab": {},
    "colab_type": "code",
    "id": "jKqh9Y0On-Mv"
   },
   "outputs": [],
   "source": [
    "def generator_loss(fake_output):\n",
    "    # We want the false images to be seen as real images (1)\n",
    "    return loss_function(tf.ones_like(fake_output), fake_output)"
   ]
  },
  {
   "cell_type": "code",
   "execution_count": null,
   "metadata": {
    "colab": {},
    "colab_type": "code",
    "id": "6ZzP3uTon-M0"
   },
   "outputs": [],
   "source": [
    "generator_optimizer = tf.keras.optimizers.Adam(lr=LEARNING_RATE, beta_1=BETA)\n",
    "discriminator_optimizer = tf.keras.optimizers.Adam(lr=LEARNING_RATE, beta_1=BETA)"
   ]
  },
  {
   "cell_type": "code",
   "execution_count": null,
   "metadata": {
    "colab": {},
    "colab_type": "code",
    "id": "lvjzM-qLn-M4"
   },
   "outputs": [],
   "source": [
    "checkpoint_dir = \".\" + os.sep + \"2.1_DCGAN_lr_beta\" + os.sep + \"training_checkpoints_cifar\"\n",
    "checkpoint_prefix = os.path.join(checkpoint_dir, \"ckpt\")\n",
    "checkpoint = tf.train.Checkpoint(generator_optimizer=generator_optimizer,\n",
    "                                 discriminator_optimizer=discriminator_optimizer,\n",
    "                                 generator=generator,\n",
    "                                 discriminator=discriminator)"
   ]
  },
  {
   "cell_type": "code",
   "execution_count": null,
   "metadata": {
    "colab": {},
    "colab_type": "code",
    "id": "q-c33oSqn-M6"
   },
   "outputs": [],
   "source": [
    "# We will reuse this seed overtime (so it's easier)\n",
    "# to visualize progress in the animated GIF)\n",
    "seed = tf.random.normal([NUM_EXAMPLES, NOISE_DIM])"
   ]
  },
  {
   "cell_type": "code",
   "execution_count": null,
   "metadata": {
    "colab": {},
    "colab_type": "code",
    "id": "1pV6xVOGn-ND"
   },
   "outputs": [],
   "source": [
    "import matplotlib.gridspec as gridspec\n",
    "import matplotlib.patches as mpatches\n",
    "\n",
    "def generate_and_save_images(model,\n",
    "                             epoch,\n",
    "                             test_input,\n",
    "                             g_loss,\n",
    "                             d_loss,\n",
    "                             conditions=None,\n",
    "                             x_axis=\"scale\",\n",
    "                             y_max=5):\n",
    "\n",
    "  # Notice `training` is set to False.\n",
    "  # This is so all layers run in inference mode (batchnorm).\n",
    "    if conditions:\n",
    "        predictions = model([test_input, conditions], training=False)\n",
    "    else:\n",
    "        predictions = model([test_input], training=False)\n",
    "\n",
    "    fig = plt.figure(figsize=(20,8))\n",
    "    outer = gridspec.GridSpec(1, 2, wspace=0.2, hspace=0.2)\n",
    "\n",
    "    inner_im = gridspec.GridSpecFromSubplotSpec(4, 5,\n",
    "                  subplot_spec=outer[0], wspace=0.1, hspace=0.1)\n",
    "\n",
    "    for i in range(predictions.shape[0]):\n",
    "        ax = plt.Subplot(fig, inner_im[i])\n",
    "        ax.imshow((predictions[i]+1) / 2 )\n",
    "        if conditions:\n",
    "            ax.title.set_text(classes[np.argmax(conditions[i])])\n",
    "        ax.axis('off')\n",
    "        fig.add_subplot(ax)\n",
    "    fig.savefig(\".\" + os.sep + \"2.1_DCGAN_lr_beta\" + os.sep + 'imgs' + os.sep + 'image_at_epoch_{:04d}.png'.format(epoch), bbox_inches=\"tight\")\n",
    "    \n",
    "    \n",
    "    inner_l = gridspec.GridSpecFromSubplotSpec(1, 1,\n",
    "                  subplot_spec=outer[1], wspace=0.1, hspace=0.1)\n",
    "    \n",
    "    ax1 = plt.Subplot(fig, inner_l[0])\n",
    "    \n",
    "    samples = 1000\n",
    "    g_losses_sampled = []\n",
    "    d_losses_sampled = []\n",
    "    xs = []\n",
    "\n",
    "    for i in range(len(g_loss) // samples):\n",
    "        g_losses_sampled.append(np.mean(g_loss[i*samples:(i+1)*samples]))\n",
    "        d_losses_sampled.append(np.mean(d_loss[i*samples:(i+1)*samples]))\n",
    "        xs.append(i*samples + samples/2)\n",
    "\n",
    "    ax1.plot(xs, g_losses_sampled, \"r-\")\n",
    "    ax1.plot(xs, d_losses_sampled, \"b-\")\n",
    "\n",
    "    red_patch = mpatches.Patch(color='red', label='Generator loss')\n",
    "    blue_patch = mpatches.Patch(color='blue', label='Discriminator loss')\n",
    "    ax1.legend(handles=[red_patch,blue_patch])\n",
    "    \n",
    "    if x_axis == \"total\":\n",
    "        ax1.set_xlim([0, train_images.shape[0]//BATCH_SIZE * EPOCHS])\n",
    "    else:\n",
    "        ax1.set_xlim([0, xs[-1] + xs[-1]*0.1])\n",
    "    ax1.set_ylim([0, y_max])\n",
    "    \n",
    "    \n",
    "    \n",
    "    fig.add_subplot(ax1)\n",
    "    \n",
    "    plt.show()\n"
   ]
  },
  {
   "cell_type": "code",
   "execution_count": null,
   "metadata": {
    "colab": {},
    "colab_type": "code",
    "id": "zKjHYInfn-M8"
   },
   "outputs": [],
   "source": [
    "# Notice the use of `tf.function`\n",
    "# This annotation causes the function to be converted \n",
    "# from Eager mode of Tensorflow (easier to code but slower to execute) \n",
    "# to Graph mode (harder to code but faster to execute)\n",
    "\n",
    "@tf.function\n",
    "def train_step(images):\n",
    "    noise = tf.random.normal([BATCH_SIZE, NOISE_DIM])\n",
    "\n",
    "    # To make sure we know what is done, we will use a gradient tape instead of compiling\n",
    "    with tf.GradientTape() as gen_tape, tf.GradientTape() as disc_tape:\n",
    "        # Training the generator\n",
    "        generated_images = generator([noise] , training=True) \n",
    "\n",
    "        # Training the discriminator\n",
    "        real_output = discriminator([images], training=True)           # Training the discriminator on real images\n",
    "        fake_output = discriminator([generated_images], training=True) # Training the discriminator on fake images\n",
    "\n",
    "        # Calculating the losses\n",
    "        gen_loss = generator_loss(fake_output)\n",
    "        disc_loss = discriminator_loss(real_output, fake_output)\n",
    "\n",
    "        # Building the gradients\n",
    "        gradients_of_generator = gen_tape.gradient(gen_loss, generator.trainable_variables)\n",
    "        gradients_of_discriminator = disc_tape.gradient(disc_loss, discriminator.trainable_variables)\n",
    "        \n",
    "        # Applying the gradients (backpropagation)\n",
    "        generator_optimizer.apply_gradients(zip(gradients_of_generator, generator.trainable_variables))\n",
    "        discriminator_optimizer.apply_gradients(zip(gradients_of_discriminator, discriminator.trainable_variables))\n",
    "\n",
    "        return gen_loss, disc_loss\n"
   ]
  },
  {
   "cell_type": "code",
   "execution_count": null,
   "metadata": {
    "colab": {},
    "colab_type": "code",
    "id": "xiv8__B9n-NA"
   },
   "outputs": [],
   "source": [
    "g_losses = []\n",
    "d_losses = []\n",
    "def train(train_images, epochs):\n",
    "\n",
    "    num_batches = int(train_images.shape[0]/BATCH_SIZE) # Amount of batches\n",
    "    for epoch in range(epochs):\n",
    "        start = time.time() # Timing the epoch\n",
    "\n",
    "        for batch_idx in range(num_batches):\n",
    "            images = train_images[batch_idx*BATCH_SIZE : (batch_idx+1)*BATCH_SIZE]\n",
    "            gen_loss, disc_loss = train_step(images)\n",
    "            \n",
    "            # Saving the losses\n",
    "            g_losses.append(gen_loss.numpy())  \n",
    "            d_losses.append(disc_loss.numpy())\n",
    "\n",
    "        # Produce images for the GIF as we go\n",
    "        display.clear_output(wait=True)\n",
    "        generate_and_save_images(generator,\n",
    "                                 epoch + 1,\n",
    "                                 seed,\n",
    "                                 g_losses,\n",
    "                                 d_losses,\n",
    "                                 x_axis='total')\n",
    "\n",
    "        # Save the model every 15 epochs\n",
    "        if (epoch + 1) % 15 == 0:\n",
    "            checkpoint.save(file_prefix = checkpoint_prefix)\n",
    "\n",
    "        print ('Time for epoch {} is {} sec'.format(epoch + 1, time.time()-start))\n",
    "        print(\"Generator loss for last batch: \",g_losses[-1])\n",
    "        print(\"Discriminator loss for last batch: \",d_losses[-1])\n",
    "\n",
    "    # Generate after the final epoch\n",
    "    display.clear_output(wait=True)\n",
    "    generate_and_save_images(generator,\n",
    "                               epochs,\n",
    "                               seed,\n",
    "                               g_losses,\n",
    "                               d_losses,\n",
    "                               x_axis='total')"
   ]
  },
  {
   "cell_type": "code",
   "execution_count": null,
   "metadata": {
    "colab": {
     "base_uri": "https://localhost:8080/",
     "height": 935
    },
    "colab_type": "code",
    "executionInfo": {
     "elapsed": 29109,
     "status": "error",
     "timestamp": 1558605037499,
     "user": {
      "displayName": "Raphaël LAPERTOT",
      "photoUrl": "",
      "userId": "05100353218062604583"
     },
     "user_tz": -120
    },
    "id": "zkVM7PIWn-NG",
    "outputId": "6f951f94-8b94-4647-8110-a4caf1e87cbf"
   },
   "outputs": [
    {
     "data": {
      "image/png": "[encoded data removed]",
      "text/plain": [
       "<Figure size 1440x576 with 21 Axes>"
      ]
     },
     "metadata": {
      "needs_background": "light"
     },
     "output_type": "display_data"
    },
    {
     "name": "stdout",
     "output_type": "stream",
     "text": [
      "Time for epoch 55 is 26.54826307296753 sec\n",
      "Generator loss for last batch:  3.2519004\n",
      "Discriminator loss for last batch:  0.20812824\n"
     ]
    }
   ],
   "source": [
    "%%time\n",
    "# Training\n",
    "train(train_images, EPOCHS)\n",
    "\n",
    "# Immedialty save the models\n",
    "generator.save(\".\" + os.sep + \"2.1_DCGAN_lr_beta\" + os.sep + 'models' + os.sep + 'generator.h5')\n",
    "discriminator.save(\".\" + os.sep + \"2.1_DCGAN_lr_beta\" + os.sep + 'models' + os.sep + 'discriminator.h5')"
   ]
  },
  {
   "cell_type": "code",
   "execution_count": null,
   "metadata": {
    "colab": {},
    "colab_type": "code",
    "id": "2cYXd-uL2uGy",
    "outputId": "da2e1bf7-68dc-4890-847a-4762646941c9"
   },
   "outputs": [],
   "source": [
    "generator_l = tf.keras.models.load_model(\".\" + os.sep + \"2.1_DCGAN_lr_beta\" + os.sep + \"models\" + os.sep + \"generator.h5\")"
   ]
  },
  {
   "cell_type": "code",
   "execution_count": null,
   "metadata": {
    "colab": {},
    "colab_type": "code",
    "id": "GbdW-zUt2eKm",
    "outputId": "cfc82b16-67ea-4064-e729-9ae17d67517b"
   },
   "outputs": [],
   "source": [
    "# Show some examples\n",
    "\n",
    "def show_class(model, k=None, classes=None):\n",
    "    if classes:\n",
    "        print(\"Generating {} images...\".format(classes[k]))\n",
    "        input = tf.random.normal([NUM_EXAMPLES, NOISE_DIM])\n",
    "        labels = tf.one_hot([k]*NUM_EXAMPLES,10)\n",
    "        predictions = model([input, labels], training=False)\n",
    "    else:\n",
    "        print(\"Generating images...\")\n",
    "        input = tf.random.normal([NUM_EXAMPLES, NOISE_DIM])\n",
    "        labels=None\n",
    "        predictions = model([input], training=False)\n",
    "        \n",
    "\n",
    "    fig = plt.figure(figsize=(10,10))\n",
    "\n",
    "    for i in range(predictions.shape[0]):\n",
    "        plt.subplot(4, 5, i+1)\n",
    "        if classes:\n",
    "            plt.title(classes[k])\n",
    "        plt.imshow((predictions[i]+1) / 2)\n",
    "        plt.axis('off')\n",
    "    plt.show()\n",
    "    \n",
    "show_class(generator_l)"
   ]
  },
  {
   "cell_type": "code",
   "execution_count": null,
   "metadata": {
    "colab": {},
    "colab_type": "code",
    "id": "VAPnRJbX4LYK",
    "outputId": "a1d5168f-2726-409c-ba8f-79bae169b20b"
   },
   "outputs": [],
   "source": [
    "# Visualizing the losses\n",
    "\n",
    "samples = 256\n",
    "g_losses_sampled = []\n",
    "d_losses_sampled = []\n",
    "xs = []\n",
    "\n",
    "\n",
    "for i in range(len(g_losses) // samples):\n",
    "    g_losses_sampled.append(np.mean(g_losses[i*samples:(i+1)*samples]))\n",
    "    d_losses_sampled.append(np.mean(d_losses[i*samples:(i+1)*samples]))\n",
    "    xs.append(i*samples + samples/2)\n",
    "\n",
    "plt.figure(figsize=(20,10))\n",
    "  \n",
    "plt.plot(xs, g_losses_sampled, \"r-\")\n",
    "plt.plot(xs, d_losses_sampled, \"b-\")\n",
    "\n",
    "red_patch = mpatches.Patch(color='red', label='Generator loss')\n",
    "blue_patch = mpatches.Patch(color='blue', label='Discriminator loss')\n",
    "plt.legend(handles=[red_patch,blue_patch])\n",
    "plt.show()\n"
   ]
  },
  {
   "cell_type": "code",
   "execution_count": null,
   "metadata": {
    "colab": {},
    "colab_type": "code",
    "id": "E8hcYFYa3P2m"
   },
   "outputs": [],
   "source": [
    "# Creating a GIF image to visualize the training\n",
    "\n",
    "anim_file = \".\" + os.sep + \"2.1_DCGAN_lr_beta\" + os.sep + 'CIFAR-10.gif'\n",
    "\n",
    "with imageio.get_writer(anim_file, mode='I') as writer:\n",
    "    filenames = glob.glob(\".\" + os.sep + \"2.1_DCGAN_lr_beta\" + os.sep + 'imgs' + os.sep + 'image*.png')\n",
    "    filenames = sorted(filenames)\n",
    "    last = -1\n",
    "    for i,filename in enumerate(filenames):\n",
    "        frame = 10*(i**0.5)\n",
    "        if round(frame) > round(last):\n",
    "            last = frame\n",
    "        else:\n",
    "            continue\n",
    "        image = imageio.imread(filename)\n",
    "        writer.append_data(image)\n",
    "    image = imageio.imread(filename)\n",
    "    writer.append_data(image)"
   ]
  }
 ],
 "metadata": {
  "accelerator": "GPU",
  "colab": {
   "collapsed_sections": [],
   "name": "2.1_DCGAN_lr_beta.ipynb",
   "provenance": [],
   "version": "0.3.2"
  },
  "kernelspec": {
   "display_name": "tf_garridoq",
   "language": "python",
   "name": "tf_garridoq"
  },
  "language_info": {
   "codemirror_mode": {
    "name": "ipython",
    "version": 3
   },
   "file_extension": ".py",
   "mimetype": "text/x-python",
   "name": "python",
   "nbconvert_exporter": "python",
   "pygments_lexer": "ipython3",
   "version": "3.7.1"
  }
 },
 "nbformat": 4,
 "nbformat_minor": 2
}
